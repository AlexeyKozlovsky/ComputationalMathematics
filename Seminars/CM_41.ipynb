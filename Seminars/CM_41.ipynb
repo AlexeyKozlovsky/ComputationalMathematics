{
 "cells": [
  {
   "cell_type": "markdown",
   "id": "9b1c95c7",
   "metadata": {},
   "source": [
    "## Численные методы 4.1\n",
    "#### Козловский А.А., гр. 2253\n",
    "#### Вариант 5"
   ]
  },
  {
   "cell_type": "code",
   "execution_count": 64,
   "id": "a771765c",
   "metadata": {},
   "outputs": [],
   "source": [
    "import numpy as np\n",
    "import matplotlib.pyplot as plt"
   ]
  },
  {
   "cell_type": "code",
   "execution_count": 65,
   "id": "3118db4b",
   "metadata": {},
   "outputs": [],
   "source": [
    "f = lambda x: 1 / (3 + 2 * np.cos(x))"
   ]
  },
  {
   "cell_type": "markdown",
   "id": "cb608f2b",
   "metadata": {},
   "source": [
    "### Метод трапеций\n",
    "Для численного решения интеграла методом трапеций, разобьем область интегрирования на n интервалов. На концах каждого интервала будет искать значение интегрируемой функции $f(x_{i})$. После этого на каждом интервале мы сможем выделить трапеции, причем площать i-ой трапеции будет $\\frac{h}{2} (f(x_{i}) + f(x_{i + 1}))$, где h - длина интервала. Сложив площади всех трапеций мы получим площадь под кривой, то есть значение определенного интеграла. Так как $\\frac{h}{2}$ - общий член, мы можем вынести его за скобку. Все $f(x_{i})$ кроме первого и последнего повторяются по два раза (в двух граничащих трапециях). Следовательно получаем формулу.\n",
    "$$\\int_{a}^{b}{f(x)dx} = \\frac{h}{2} (f(x_{0}) + f(x_{n}) + \\sum_{k=1}^{n-1}{f(x_{k})})$$\n",
    "\n",
    "Напишем функцию, которая позволяет находить значения определенного интеграла методом трапеций"
   ]
  },
  {
   "cell_type": "code",
   "execution_count": 66,
   "id": "7e673c55",
   "metadata": {},
   "outputs": [],
   "source": [
    "def int_trapeze(f, a, b, steps=100):\n",
    "    \"\"\"Функция для вычисления определенного интеграла\n",
    "    методом трапеций\n",
    "    f: функция, от которой берется интеграл\n",
    "    a: левая граница интервала\n",
    "    b: правая граница интервала\n",
    "    steps: количество шагов\n",
    "    returns: значение определенного интеграла\"\"\"  \n",
    "    x_ = np.linspace(a, b, steps)\n",
    "    h = (b - a) / steps\n",
    "    result = 0.5 * h * (-f(a) - f(b) + \n",
    "                        2 * np.sum([f(x) for x in x_]))\n",
    "    return result"
   ]
  },
  {
   "cell_type": "markdown",
   "id": "292c9da5",
   "metadata": {},
   "source": [
    "### Квадратурная формула Гаусса\n",
    "В данном случае будем использовать квадратурную формулу Гаусса для 6 узлов. Нам понадобиться таблица с коэффициентами $A_{i}$ и $t_{i}$.\n",
    "Далее значение определенного интеграла будем вычислять по формуле\n",
    "$$\\int_{a}^{b}{f(x)dx} = \\frac{b - a}{2} \\sum_{k=1}^{6}{A_{k} f(\\frac{b - a}{2} t_{k} + \\frac{b + a}{2})}$$\n",
    "\n",
    "Теперь напишем фунцию, для реализации данного метода"
   ]
  },
  {
   "cell_type": "code",
   "execution_count": 67,
   "id": "bf332091",
   "metadata": {},
   "outputs": [],
   "source": [
    "# Коэффициенты для 6 узлов\n",
    "quad_koefs = np.array([0.1713244924, 0.3607615730, 0.4679139346,\n",
    "                       0.4679139346, 0.3607615730, 0.1713244924])\n",
    "t_koefs = np.array([-0.9324695142, -0.6612093864, -0.2386191861, \n",
    "                    0.2386191861, 0.6612093864, 0.9324695142])"
   ]
  },
  {
   "cell_type": "code",
   "execution_count": 68,
   "id": "789bc26b",
   "metadata": {},
   "outputs": [],
   "source": [
    "def quad_gauss(f, a, b, a_koefs, t_koefs):\n",
    "    minus, plus = (b - a) * 0.5, (b + a) * 0.5\n",
    "    result = (minus * \n",
    "              np.sum([a_koefs[i] * f(minus * t + plus) \n",
    "                                     for i, t in enumerate(t_koefs)]))\n",
    "    return result"
   ]
  },
  {
   "cell_type": "markdown",
   "id": "62630a99",
   "metadata": {},
   "source": [
    "Теперь посчтиаем значение определенного интеграла $\\int_{2}^{10}{\\frac{1}{3 + 2 \\cos{x}}}$ двумя способами"
   ]
  },
  {
   "cell_type": "code",
   "execution_count": 69,
   "id": "a62397e6",
   "metadata": {},
   "outputs": [
    {
     "name": "stdout",
     "output_type": "stream",
     "text": [
      "По квадратурной формуле: 1.979005978652391\n",
      "По методу трапеций: 1.9575871768134134\n"
     ]
    }
   ],
   "source": [
    "print(f'По квадратурной формуле: {quad_gauss(f, 2, 5, quad_koefs, t_koefs)}')\n",
    "print(f'По методу трапеций: {int_trapeze(f, 2, 5, 100)}')"
   ]
  },
  {
   "cell_type": "code",
   "execution_count": null,
   "id": "b8528c30",
   "metadata": {},
   "outputs": [],
   "source": []
  }
 ],
 "metadata": {
  "kernelspec": {
   "display_name": "Python 3",
   "language": "python",
   "name": "python3"
  },
  "language_info": {
   "codemirror_mode": {
    "name": "ipython",
    "version": 3
   },
   "file_extension": ".py",
   "mimetype": "text/x-python",
   "name": "python",
   "nbconvert_exporter": "python",
   "pygments_lexer": "ipython3",
   "version": "3.8.5"
  }
 },
 "nbformat": 4,
 "nbformat_minor": 5
}
