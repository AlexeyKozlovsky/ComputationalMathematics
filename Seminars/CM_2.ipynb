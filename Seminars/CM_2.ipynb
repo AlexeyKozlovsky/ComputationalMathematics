{
 "cells": [
  {
   "cell_type": "markdown",
   "metadata": {},
   "source": [
    "## Численные методы 2.\n",
    "#### Козловский А.А., гр. 2253"
   ]
  },
  {
   "cell_type": "code",
   "execution_count": 12,
   "metadata": {
    "id": "7wJK3hEAR2Vn"
   },
   "outputs": [],
   "source": [
    "import numpy as np\n",
    "from sympy import Symbol, Function, lambdify, diff\n",
    "import matplotlib.pyplot as plt\n",
    "from sympy import exp\n",
    "from IPython.display import display, HTML, Markdown"
   ]
  },
  {
   "cell_type": "code",
   "execution_count": 25,
   "metadata": {
    "colab": {
     "base_uri": "https://localhost:8080/",
     "height": 282
    },
    "id": "xJ7UjSd1R4Xe",
    "outputId": "eea6acdd-5ece-46c7-f78c-a273531cee59"
   },
   "outputs": [],
   "source": [
    "x = np.linspace(-1, 1, 100)\n",
    "y = lambda x: np.exp(x) + 1.5 * x ** 3 - 2"
   ]
  },
  {
   "cell_type": "code",
   "execution_count": 26,
   "metadata": {
    "scrolled": true
   },
   "outputs": [
    {
     "data": {
      "image/png": "[encoded data removed]",
      "text/plain": [
       "<Figure size 432x288 with 1 Axes>"
      ]
     },
     "metadata": {
      "needs_background": "light"
     },
     "output_type": "display_data"
    }
   ],
   "source": [
    "fig, ax = plt.subplots()\n",
    "\n",
    "ax.grid(True)\n",
    "ax.tick_params(labelcolor='r', labelsize='medium', width=3)\n",
    "ax.axhline(y=0, color='black', linewidth=1)\n",
    "ax.axvline(x=0, color='black', linewidth=1)\n",
    "ax.plot(x, y(x))\n",
    "\n",
    "plt.show()"
   ]
  },
  {
   "cell_type": "markdown",
   "metadata": {},
   "source": [
    "### Реализиации необходимых функций"
   ]
  },
  {
   "cell_type": "code",
   "execution_count": 27,
   "metadata": {
    "id": "73bnfPk6R8Rd"
   },
   "outputs": [],
   "source": [
    "def bisection_method(y, x_min, x_max, eps=1e-5):\n",
    "    \"\"\"\n",
    "    Функция для нахождения корня методом бисекций\n",
    "\n",
    "    y: лямбда выражение, характеризующее функцию y(x)\n",
    "    x_min: левая граница интервала, на котором происходит поиск\n",
    "    x_max: правая граница интервала, на котором происходит поиск\n",
    "    eps: требуемая погрешность\n",
    "\n",
    "    returns: левая граница получившегося интервала, \n",
    "    правая граница получившегося интервала, количество итераций\n",
    "    \"\"\"\n",
    "\n",
    "    iters = 0\n",
    "    while np.abs(y(x_min) - y(x_max)) >= eps:\n",
    "        x_center = (x_min + x_max) / 2\n",
    "\n",
    "        if y(x_center) * y(x_min) < 0:\n",
    "            x_max = x_center\n",
    "        else:\n",
    "            x_min = x_center\n",
    "            \n",
    "        iters += 1\n",
    "\n",
    "    return x_min, x_max, iters"
   ]
  },
  {
   "cell_type": "code",
   "execution_count": 16,
   "metadata": {
    "id": "AtvuUzpPUqYD"
   },
   "outputs": [],
   "source": [
    "def check_for_newton_method(f, arg, min_x, max_x, x_0):\n",
    "    \"\"\"\n",
    "    Функция для проверки, выполняются ли достаточные условия для\n",
    "    сходимости итерационного процесса в методе Ньютона\n",
    "\n",
    "    f: функция в символьном виде [sympy Function]\n",
    "    arg: аргумент функции в символьном виде [sympy Symbol]\n",
    "    min_x: левая граница интервала поиска \n",
    "    max_x: правая граница интервала поиска \n",
    "    x_0: начальная точка\n",
    "\n",
    "    returns: True - если все условия выполняются, False - если хотя бы одно\n",
    "    условие не выполнилось\n",
    "    \"\"\"\n",
    "    f_ld = lambdify(arg, f)\n",
    "    der_1 = diff(f, arg)\n",
    "    der_2 = diff(der_1, arg)\n",
    "\n",
    "    der_1_ld = lambdify(arg, der_1)\n",
    "    der_2_ld = lambdify(arg, der_2)\n",
    "    x = np.linspace(min_x, max_x, 100)\n",
    "    \n",
    "    try:\n",
    "        max_der_1 = np.max([der_1_ld(i) for i in x])\n",
    "        min_der_1 = np.min([der_1_ld(i) for i in x])\n",
    "        max_der_2 = np.max([der_2_ld(i) for i in x])\n",
    "        min_der_2 = np.min([der_2_ld(i) for i in x])\n",
    "    except TypeError:\n",
    "        return False, None, None\n",
    "    \n",
    "    phi_der = diff(arg - f / diff(f))\n",
    "    phi_der_ld = lambdify(arg, phi_der)\n",
    "    min_der_phi = np.min([phi_der_ld(i) for i in x])\n",
    "    max_der_phi = np.max([phi_der_ld(i) for i in x])\n",
    "    \n",
    "    if np.abs(max_der_phi) >= 1 or np.abs(min_der_phi) >= 1:\n",
    "        return False, None, None\n",
    "\n",
    "    if min_der_1 * max_der_1 < 0 or min_der_2 * max_der_2 < 0:\n",
    "        return False, None, None\n",
    "\n",
    "    if f_ld(x_0) * der_2_ld(x_0) <= 0:\n",
    "        return False, None, None\n",
    "\n",
    "    return True, f_ld, der_1_ld "
   ]
  },
  {
   "cell_type": "code",
   "execution_count": 30,
   "metadata": {
    "id": "su4oOhUPXLZ2"
   },
   "outputs": [],
   "source": [
    "def newton_method(f, arg, min_x, max_x, eps=1e-5):\n",
    "    \"\"\"\n",
    "    Функция для решения уравнения методом Ньютона\n",
    "    f: функция в символьном виде [sympy Function]\n",
    "    arg: аргумент функции в символьном виде [sympy Symbol]\n",
    "    min_x: левая граница интервала поиска \n",
    "    max_x: правая граница интервала поиска \n",
    "    eps: погрешность\n",
    "\n",
    "    returns: корень уравнения с заданной точностью, количество итераций\n",
    "    \"\"\"\n",
    "\n",
    "    check, f_ld, der_1_ld = check_for_newton_method(f, arg, min_x, max_x,\n",
    "                                                np.average([min_x, max_x]))\n",
    "    if not check:\n",
    "        raise TypeError\n",
    "        \n",
    "    x = (min_x + max_x) / 2\n",
    "    x_old = x + 1\n",
    "    iters = 0\n",
    "    while np.abs(x_old - x) >= eps:\n",
    "        x_old = x\n",
    "        x -= f_ld(x) / der_1_ld(x)\n",
    "        iters += 1\n",
    "    return x, iters"
   ]
  },
  {
   "cell_type": "markdown",
   "metadata": {},
   "source": [
    "### Определение функции и решение уравнения"
   ]
  },
  {
   "cell_type": "code",
   "execution_count": 28,
   "metadata": {},
   "outputs": [
    {
     "data": {
      "text/markdown": [
       "\n",
       "Дана функция $f(x) = e^{x} + 1.5 x^{3} - 2$ <p>\n",
       "Решить уравнение $f(x) = 0$"
      ],
      "text/plain": [
       "<IPython.core.display.Markdown object>"
      ]
     },
     "metadata": {},
     "output_type": "display_data"
    }
   ],
   "source": [
    "x = np.linspace(0, 1, 100)\n",
    "\n",
    "# Определим функцию\n",
    "arg = Symbol('x')\n",
    "f = exp(arg) + 1.5 * arg ** 3 - 2\n",
    "f_ld = lambdify(arg, f)\n",
    "display(Markdown(r'''\n",
    "Дана функция $f(x) = e^{x} + 1.5 x^{3} - 2$ <p>\n",
    "Решить уравнение $f(x) = 0$'''))"
   ]
  },
  {
   "cell_type": "code",
   "execution_count": 29,
   "metadata": {},
   "outputs": [
    {
     "data": {
      "text/markdown": [
       "\n",
       "<i><u>Результат работы метода бисекций</u></i> <p>\n",
       "В результате метода бисекций мы смогли сузить отрезок для поиска корня до \n",
       "$[0.5546875, 0.556640625]$ за $9$ итераций <p>\n",
       "<u>Ответ</u>: $[0.5546875, 0.556640625]$"
      ],
      "text/plain": [
       "<IPython.core.display.Markdown object>"
      ]
     },
     "metadata": {},
     "output_type": "display_data"
    }
   ],
   "source": [
    "min_x, max_x, iters_1 = bisection_method(f_ld, 0, 1, 1e-2)\n",
    "display(Markdown(rf'''\n",
    "<i><u>Результат работы метода бисекций</u></i> <p>\n",
    "В результате метода бисекций мы смогли сузить отрезок для поиска корня до \n",
    "$[{min_x}, {max_x}]$ за ${iters_1}$ итераций <p>\n",
    "<u>Ответ</u>: $[{min_x}, {max_x}]$'''))"
   ]
  },
  {
   "cell_type": "code",
   "execution_count": 31,
   "metadata": {},
   "outputs": [
    {
     "data": {
      "text/markdown": [
       "\n",
       "<i><u>Результат работы метода Ньютона</u></i> <p>\n",
       "В результате метода Ньютона получили результат $0.55552022$ за $3$ итераций, используя\n",
       "отрезок полученный ранее, т.е. $[0.5546875, 0.556640625]$ <p>\n",
       "<u>Ответ</u>: $0.55552022$"
      ],
      "text/plain": [
       "<IPython.core.display.Markdown object>"
      ]
     },
     "metadata": {},
     "output_type": "display_data"
    }
   ],
   "source": [
    "result, iters_2 = newton_method(f, arg, min_x, max_x, 0.5 * 1e-9)\n",
    "display(Markdown(rf'''\n",
    "<i><u>Результат работы метода Ньютона</u></i> <p>\n",
    "В результате метода Ньютона получили результат ${result:.8f}$ за ${iters_2}$ итераций, используя\n",
    "отрезок полученный ранее, т.е. $[{min_x}, {max_x}]$ <p>\n",
    "<u>Ответ</u>: ${result:.8f}$'''))"
   ]
  },
  {
   "cell_type": "code",
   "execution_count": 32,
   "metadata": {},
   "outputs": [
    {
     "data": {
      "text/markdown": [
       "\n",
       "$|f(0.55552022)| = 0.0$"
      ],
      "text/plain": [
       "<IPython.core.display.Markdown object>"
      ]
     },
     "metadata": {},
     "output_type": "display_data"
    }
   ],
   "source": [
    "display(Markdown(rf'''\n",
    "$|f({result:.8f})| = {np.abs(f_ld(result))}$'''))"
   ]
  },
  {
   "cell_type": "code",
   "execution_count": null,
   "metadata": {},
   "outputs": [],
   "source": []
  }
 ],
 "metadata": {
  "colab": {
   "collapsed_sections": [],
   "name": "Computational_methods_2.ipynb",
   "provenance": []
  },
  "kernelspec": {
   "display_name": "Python 3",
   "language": "python",
   "name": "python3"
  },
  "language_info": {
   "codemirror_mode": {
    "name": "ipython",
    "version": 3
   },
   "file_extension": ".py",
   "mimetype": "text/x-python",
   "name": "python",
   "nbconvert_exporter": "python",
   "pygments_lexer": "ipython3",
   "version": "3.8.5"
  }
 },
 "nbformat": 4,
 "nbformat_minor": 1
}
