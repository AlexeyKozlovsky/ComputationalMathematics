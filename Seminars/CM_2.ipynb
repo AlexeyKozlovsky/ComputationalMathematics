{
 "cells": [
  {
   "cell_type": "code",
   "execution_count": 1,
   "metadata": {},
   "outputs": [],
   "source": [
    "import numpy as np\n",
    "import matplotlib.pyplot as plt\n",
    "from sympy import diff, lambdify, Function, Symbol\n",
    "from IPython.display import display, Markdown"
   ]
  },
  {
   "cell_type": "code",
   "execution_count": null,
   "metadata": {},
   "outputs": [],
   "source": [
    "def newton_method(f, arg, x_min, x_max, eps=1e-7):\n",
    "    \"\"\"\n",
    "    Функция для решение уравнения методом Ньютона\n",
    "    \n",
    "    f: sympy Function для уравнения f(x) = 0\n",
    "    arg: sympy Symbol - аргумент для функции f(x)\n",
    "    x_min: левая граница интервала\n",
    "    x_max: правая граница интервала\n",
    "    eps: погрешность\n",
    "    \n",
    "    returns: корень уравнения\n",
    "    \"\"\"\n",
    "    \n",
    "    der_f = diff(f, arg)\n",
    "    "
   ]
  }
 ],
 "metadata": {
  "kernelspec": {
   "display_name": "Python 3",
   "language": "python",
   "name": "python3"
  },
  "language_info": {
   "codemirror_mode": {
    "name": "ipython",
    "version": 3
   },
   "file_extension": ".py",
   "mimetype": "text/x-python",
   "name": "python",
   "nbconvert_exporter": "python",
   "pygments_lexer": "ipython3",
   "version": "3.8.5"
  }
 },
 "nbformat": 4,
 "nbformat_minor": 4
}
