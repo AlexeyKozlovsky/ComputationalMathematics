{
 "cells": [
  {
   "cell_type": "markdown",
   "id": "74b7d70d",
   "metadata": {},
   "source": [
    "## Численные методы. Задание 3.1\n",
    "#### Козловский А.А., гр. 2253\n",
    "#### Вариант 5"
   ]
  },
  {
   "cell_type": "code",
   "execution_count": 1,
   "id": "6321d381",
   "metadata": {},
   "outputs": [],
   "source": [
    "import numpy as np\n",
    "import matplotlib.pyplot as plt\n",
    "import pandas as pd\n",
    "import sympy as sp\n",
    "\n",
    "from IPython.display import display, Markdown"
   ]
  },
  {
   "cell_type": "code",
   "execution_count": 2,
   "id": "f437ba29",
   "metadata": {},
   "outputs": [
    {
     "data": {
      "image/png": "[encoded data removed]",
      "text/plain": [
       "<Figure size 432x288 with 1 Axes>"
      ]
     },
     "metadata": {
      "needs_background": "light"
     },
     "output_type": "display_data"
    }
   ],
   "source": [
    "f = lambda x: 1 / (5 - 3 * np.cos(x))\n",
    "a, b = 2, 8\n",
    "x = np.linspace(a, b, 100)\n",
    "\n",
    "plt.plot(x, f(x))\n",
    "plt.show()"
   ]
  },
  {
   "cell_type": "code",
   "execution_count": 3,
   "id": "3ccc18e8",
   "metadata": {},
   "outputs": [
    {
     "data": {
      "image/png": "[encoded data removed]",
      "text/plain": [
       "<Figure size 432x288 with 1 Axes>"
      ]
     },
     "metadata": {
      "needs_background": "light"
     },
     "output_type": "display_data"
    }
   ],
   "source": [
    "table_count = 5\n",
    "x_table = np.linspace(a, b, table_count)\n",
    "y_table = np.array([f(x) for x in x_table])\n",
    "\n",
    "value_table = np.concatenate(([x_table], [y_table]))\n",
    "plt.scatter(value_table[0], value_table[1])\n",
    "plt.show()"
   ]
  },
  {
   "cell_type": "code",
   "execution_count": 4,
   "id": "025d24a1",
   "metadata": {},
   "outputs": [
    {
     "data": {
      "text/html": [
       "<div>\n",
       "<style scoped>\n",
       "    .dataframe tbody tr th:only-of-type {\n",
       "        vertical-align: middle;\n",
       "    }\n",
       "\n",
       "    .dataframe tbody tr th {\n",
       "        vertical-align: top;\n",
       "    }\n",
       "\n",
       "    .dataframe thead th {\n",
       "        text-align: right;\n",
       "    }\n",
       "</style>\n",
       "<table border=\"1\" class=\"dataframe\">\n",
       "  <thead>\n",
       "    <tr style=\"text-align: right;\">\n",
       "      <th></th>\n",
       "      <th>x0</th>\n",
       "      <th>x1</th>\n",
       "      <th>x2</th>\n",
       "      <th>x3</th>\n",
       "      <th>x4</th>\n",
       "    </tr>\n",
       "  </thead>\n",
       "  <tbody>\n",
       "    <tr>\n",
       "      <th>x</th>\n",
       "      <td>2.00000</td>\n",
       "      <td>3.500000</td>\n",
       "      <td>5.000000</td>\n",
       "      <td>6.500000</td>\n",
       "      <td>8.000000</td>\n",
       "    </tr>\n",
       "    <tr>\n",
       "      <th>f(x)</th>\n",
       "      <td>0.16004</td>\n",
       "      <td>0.128051</td>\n",
       "      <td>0.241021</td>\n",
       "      <td>0.483036</td>\n",
       "      <td>0.183942</td>\n",
       "    </tr>\n",
       "  </tbody>\n",
       "</table>\n",
       "</div>"
      ],
      "text/plain": [
       "           x0        x1        x2        x3        x4\n",
       "x     2.00000  3.500000  5.000000  6.500000  8.000000\n",
       "f(x)  0.16004  0.128051  0.241021  0.483036  0.183942"
      ]
     },
     "metadata": {},
     "output_type": "display_data"
    }
   ],
   "source": [
    "df_table = pd.DataFrame(columns=[f'x{i}' \n",
    "                                 for i, _ in enumerate(value_table.T)],\n",
    "                        index=['x', 'f(x)'], data=value_table)\n",
    "display(df_table)"
   ]
  },
  {
   "cell_type": "markdown",
   "id": "be0fa77d",
   "metadata": {},
   "source": [
    "#### Кусочно-линейная интерполяция\n",
    "Для линейной интерполяции воспользуемся свойством подобных трегулоьников.\n",
    "Предположим, что мы уже нашли между какими точками из таблицы находится точка, в которой нас интересует значение функции. Пусть эти точки $A$ и $B$. Тогда построим прямогульный трегульник $\\triangle AOB$, где $AB$ - гипотенуза, а $AO || Ox$, $BO || Oy$.\n",
    "Согласно линейной интерполяции, точка, приближенное значение мы ищем находится на отрезке AB. Проведем от нее отрезок, параллельный AO до катета BO. тогда получается, что\n",
    "$$\\triangle AOB \\sim \\triangle THB$$.\n",
    "\n",
    "Отсюда следует, что\n",
    "$$\\frac{TH}{AO} = \\frac{BH}{BO}$$.\n",
    "Мы знаем $T_{x}$, $A$ и $B$. задача своится к тому, чтобы найти $T_{y}$. Для этого нам просто необходимо вычислить длину стороны $BH$. Получается, что\n",
    "$$BH = \\frac{TH \\cdot BO}{AO}$$.\n",
    "\n",
    "А координата $T_{y}$, т.е. значение функции в точке $T_{x}$ будет получаться следующим образом:\n",
    "$$T_{y} = B_{y} - BH$$\n",
    "$$T_{y} = B_{y} - \\frac{TH \\cdot BO}{AO}$$\n",
    "\n",
    "Реализуем функцию линейной интерполяции"
   ]
  },
  {
   "cell_type": "code",
   "execution_count": 5,
   "id": "4420e28e",
   "metadata": {},
   "outputs": [],
   "source": [
    "def lin_inter(point, table):\n",
    "    \"\"\"Функция для вычисления приближенного значения\n",
    "    функции в точке методом линейной интерполяции\n",
    "    point: точка, в которой надо вычислить значение функции\n",
    "    table: таблица значений функции\n",
    "    returns: значение функции\"\"\"\n",
    "    left, right = 0, 0\n",
    "    for num, value in enumerate(table.T):\n",
    "        if point < value[0]:\n",
    "            left, right = table.T[num - 1], table.T[num]\n",
    "            break\n",
    "          \n",
    "    th, bo = right[0] - point, right[1] - left[1]\n",
    "    ao = right[0] - left[0]\n",
    "    result = right[1] - th * bo / ao\n",
    "    \n",
    "    return result"
   ]
  },
  {
   "cell_type": "markdown",
   "id": "0e3f923a",
   "metadata": {},
   "source": [
    "#### Интерполяция полиномом\n",
    "Можем заметить, что линейная и квадратичная интерполяции являются частными случаями интерполяции полиномом $\\sum_{i=0}^{n} a_{i} x^{i}$\n",
    "Для того, чтобы провести интерполяцию полиномом n-ой степени необходимо n точек, в которых будет известно значение и функции и тогда, наша задача сведется в подбору коэффициентов полинома $a_{i}$. А это в свою очередь сводится к решению СЛАУ, где матрица коэффициентов:\n",
    "$$\\pmatrix{\n",
    "x_{0}^{0} & x_{0}^{1} & x_{0}^{2} & ... & x_{0}^{n} \\\\\n",
    "x_{1}^{0} & x_{1}^{1} & x_{1}^{2} & ... & x_{1}^{n} \\\\\n",
    "&&...&& \\\\\n",
    "x_{n}^{0} & x_{n}^{1} & x_{n}^{2} & ... & x_{n}^{n}}$$, где $x_{j}$ - координата по $Ox$ j-ой точки, использованной для проведения интерполяции.\n",
    "Вектор свободных членов же имеет вид \n",
    "$$\\pmatrix{y_{0} & y_{1} & ... & y_{n}}$$\n",
    "\n",
    "Реализуем функцию для интерполяции полиномом n-ой степени, чтобы в дальнейшем использовать её для квадратичной и линейной интерполяций."
   ]
  },
  {
   "cell_type": "code",
   "execution_count": 6,
   "id": "18432261",
   "metadata": {},
   "outputs": [],
   "source": [
    "def p_inter(point, table, n):\n",
    "    \"\"\"Функция для интерполяцией полиномом\n",
    "    point: точка, в которой надо вычислить значение функции\n",
    "    table: таблица значений функции\n",
    "    returns: значениe функции, лямбда функцию, получившеюся в ходе\n",
    "    интерполяции\"\"\"    \n",
    "    x = table[0]\n",
    "    y = table[1]\n",
    "    x_inter = np.argsort(np.abs(point - x))[:n+1]\n",
    "    matrix = np.array([[x[x_] ** i for i in range(n+1)]\n",
    "                       for x_ in x_inter])   \n",
    "    free_values = np.array([y[x_] for x_ in x_inter])\n",
    "    pol_res = np.linalg.solve(matrix, free_values.T)\n",
    "\n",
    "    f = lambda x: np.sum([koef * x ** i for i, koef in enumerate(pol_res)])\n",
    "    return f(point), pol_res"
   ]
  },
  {
   "cell_type": "markdown",
   "id": "2463bda7",
   "metadata": {},
   "source": [
    "После реализации необходимых для интерполяций функции, произведем линейную и квадратичную интерполяцию. В случае линейной воспользуемся двумя представленными выше способами. В случае квадратичной будем использовать интерполяцию полиномом при n=2"
   ]
  },
  {
   "cell_type": "markdown",
   "id": "5603418b",
   "metadata": {},
   "source": [
    "#### Осуществление линейной интерполяции\n",
    "Осуществим линеуню интерполяцию для нахождения функции в точке. Для сравнения построим график исходной функции и значение функции, найденное в итоге интерполяции"
   ]
  },
  {
   "cell_type": "code",
   "execution_count": 7,
   "id": "73469a5a",
   "metadata": {},
   "outputs": [
    {
     "data": {
      "text/markdown": [
       "\n",
       "Отклонения получившегося значения функции от действительного имеет отклонение 0.022"
      ],
      "text/plain": [
       "<IPython.core.display.Markdown object>"
      ]
     },
     "metadata": {},
     "output_type": "display_data"
    },
    {
     "data": {
      "image/png": "[encoded data removed]",
      "text/plain": [
       "<Figure size 432x288 with 1 Axes>"
      ]
     },
     "metadata": {
      "needs_background": "light"
     },
     "output_type": "display_data"
    }
   ],
   "source": [
    "point_x = 4\n",
    "point_y = lin_inter(point_x, value_table)\n",
    "error = np.abs(point_y - f(point_x))\n",
    "display(Markdown(rf'''\n",
    "Отклонения получившегося значения функции от действительного имеет отклонение {error:.3f}'''))\n",
    "\n",
    "plt.plot(x, f(x))\n",
    "plt.scatter(point_x, point_y, marker='X', color='orange',\n",
    "           s=150, edgecolors='black')\n",
    "plt.show()"
   ]
  },
  {
   "cell_type": "markdown",
   "id": "35235dc2",
   "metadata": {},
   "source": [
    "Теперь произведем линейную интерполяцию через интерполяцию многочлена 1 степени"
   ]
  },
  {
   "cell_type": "code",
   "execution_count": 8,
   "id": "03fd7c89",
   "metadata": {},
   "outputs": [
    {
     "data": {
      "text/markdown": [
       "\n",
       "Отклонения получившегося значения функции от действительного имеет отклонение 0.022"
      ],
      "text/plain": [
       "<IPython.core.display.Markdown object>"
      ]
     },
     "metadata": {},
     "output_type": "display_data"
    },
    {
     "data": {
      "image/png": "[encoded data removed]",
      "text/plain": [
       "<Figure size 432x288 with 1 Axes>"
      ]
     },
     "metadata": {
      "needs_background": "light"
     },
     "output_type": "display_data"
    }
   ],
   "source": [
    "point_y_p = p_inter(point_x, value_table, 1)\n",
    "error_p = np.abs(point_y_p[0] - f(point_x))\n",
    "display(Markdown(rf'''\n",
    "Отклонения получившегося значения функции от действительного имеет отклонение {error:.3f}'''))\n",
    "\n",
    "plt.plot(x, f(x))\n",
    "plt.scatter(point_x, point_y_p[0], marker='X', color='orange',\n",
    "           s=150, edgecolors='black')\n",
    "plt.show()"
   ]
  },
  {
   "cell_type": "code",
   "execution_count": 9,
   "id": "cd71c9ab",
   "metadata": {},
   "outputs": [
    {
     "data": {
      "text/markdown": [
       "\n",
       "Разница получившихся значений двума способами составляет: 2.7755575615628914e-17"
      ],
      "text/plain": [
       "<IPython.core.display.Markdown object>"
      ]
     },
     "metadata": {},
     "output_type": "display_data"
    }
   ],
   "source": [
    "display(Markdown(rf'''\n",
    "Разница получившихся значений двума способами составляет: {np.abs(point_y - point_y_p[0])}'''))"
   ]
  },
  {
   "cell_type": "markdown",
   "id": "3d6cd67d",
   "metadata": {},
   "source": [
    "### Осуществление квадратичной интерполяции\n",
    "Теперь проведем квадратичную интерполяцию через интерполяцию полинома степени 2."
   ]
  },
  {
   "cell_type": "code",
   "execution_count": 10,
   "id": "0ba1f4db",
   "metadata": {},
   "outputs": [
    {
     "data": {
      "text/markdown": [
       "\n",
       "Как мы видим из графиков, квадратичная интерполяция тчочнее. Отклонения найденного значения\n",
       "с действительным различается всего на 0.00594"
      ],
      "text/plain": [
       "<IPython.core.display.Markdown object>"
      ]
     },
     "metadata": {},
     "output_type": "display_data"
    },
    {
     "data": {
      "image/png": "[encoded data removed]",
      "text/plain": [
       "<Figure size 432x288 with 1 Axes>"
      ]
     },
     "metadata": {
      "needs_background": "light"
     },
     "output_type": "display_data"
    }
   ],
   "source": [
    "point_y_q = p_inter(point_x, value_table, 2)\n",
    "error_q = np.abs(point_y_q[0] - f(point_x))\n",
    "display(Markdown(rf'''\n",
    "Как мы видим из графиков, квадратичная интерполяция тчочнее. Отклонения найденного значения\n",
    "с действительным различается всего на {np.abs(point_y_q[0] - f(point_x)):.5f}'''))\n",
    "\n",
    "plt.plot(x, f(x))\n",
    "plt.scatter(point_x, point_y_q[0], marker='X', \n",
    "           color='orange', s=150, edgecolor='black')\n",
    "plt.show()"
   ]
  },
  {
   "cell_type": "code",
   "execution_count": null,
   "id": "06919f6f",
   "metadata": {},
   "outputs": [],
   "source": []
  }
 ],
 "metadata": {
  "kernelspec": {
   "display_name": "Python 3",
   "language": "python",
   "name": "python3"
  },
  "language_info": {
   "codemirror_mode": {
    "name": "ipython",
    "version": 3
   },
   "file_extension": ".py",
   "mimetype": "text/x-python",
   "name": "python",
   "nbconvert_exporter": "python",
   "pygments_lexer": "ipython3",
   "version": "3.8.5"
  }
 },
 "nbformat": 4,
 "nbformat_minor": 5
}
