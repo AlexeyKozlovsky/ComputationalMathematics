{
 "cells": [
  {
   "cell_type": "markdown",
   "id": "184a8fc1",
   "metadata": {},
   "source": [
    "## Численные методы. Задание 3\n",
    "#### Козловский А.А., гр. 2253"
   ]
  },
  {
   "cell_type": "code",
   "execution_count": 1,
   "id": "9d14409c",
   "metadata": {},
   "outputs": [],
   "source": [
    "import sympy as sp\n",
    "import numpy as np"
   ]
  },
  {
   "cell_type": "code",
   "execution_count": 2,
   "id": "3d504849",
   "metadata": {},
   "outputs": [],
   "source": [
    "matrix = np.array([[11.7855, 0.008692, 0.347029, 0.13928, 0.180603, 0.528701],\n",
    "[0.578587, 14.6035, 0.404298, 0.903726, 0.975904, 0.62036],\n",
    "[0.0980015, 0.981755, 14.5017, 0.133721, 0.348832, 0.182328],\n",
    "[0.648071, 0.369534, 0.664786, 9.30951, 0.558482, 0.804608],\n",
    "[0.0307942, 0.459123, 0.531943, 0.540745, 10.3118, 0.576213],\n",
    "[0.593371, 0.371837, 0.541511, 0.600545, 0.124903, 10.8568]])"
   ]
  },
  {
   "cell_type": "code",
   "execution_count": 3,
   "id": "172a8cfa",
   "metadata": {},
   "outputs": [],
   "source": [
    "vec = np.array([0.195434, 0.430073, 0.914485, 0.113014, 0.997252, 0.896421])"
   ]
  },
  {
   "cell_type": "code",
   "execution_count": 68,
   "id": "38fa46fc",
   "metadata": {},
   "outputs": [],
   "source": [
    "class Solver:\n",
    "    def __init__(self, matrix, free):\n",
    "        self.matrix = matrix\n",
    "        self.free = free\n",
    "        self.result = None\n",
    "        \n",
    "    def _separate(self, matrix):\n",
    "        \"\"\"Метод для разделения матрицы на верхнетреугольную,\n",
    "        нижнетреугольную и диагональную \n",
    "        matrix: исходная матрица\n",
    "        returns: нижнетреугольную, верхнетреугольную и диагональную\n",
    "        матрицы\"\"\"\n",
    "        \n",
    "        a1 = np.array([[v if i > j else 0 for j, v in enumerate(row)]\n",
    "                       for i, row in enumerate(matrix)])\n",
    "        a2 = np.array([[v if i < j else 0 for j, v in enumerate(row)]\n",
    "                       for i, row in enumerate(matrix)])\n",
    "        d = np.array([[v if i == j else 0 for j, v in enumerate(row)]\n",
    "                       for i, row in enumerate(matrix)])\n",
    "\n",
    "        return a1, a2, d\n",
    "  \n",
    "\n",
    "    def norm(self, matrix):\n",
    "        \"\"\"Метод для вычисления нормы матрицы\n",
    "        matrix: матица\n",
    "        returns: значение нормы\"\"\"\n",
    "        \n",
    "        return max([np.sum(np.abs(matrix[i])) for i in range(matrix.shape[0])])\n",
    "\n",
    "    \n",
    "    def norm_vec(self, vec):\n",
    "        \"\"\"Метод для расчета нормы вектора\n",
    "        vec: вектор\n",
    "        returns: значение нормы вектора\"\"\"\n",
    "\n",
    "        return np.max(np.abs(vec))\n",
    "    \n",
    "    \n",
    "    def _diagonal_dominate(self):\n",
    "        \"\"\"Метод для проверки диагонального преобладания\n",
    "        в матрице\n",
    "        returns: true - если преобладание есть,\n",
    "        false - если нет\"\"\"\n",
    "\n",
    "        result = True\n",
    "        for i, row in enumerate(self.matrix):\n",
    "            sum_ = np.sum([v if j != i else 0 for j, v in enumerate(row)])\n",
    "            if sum_ >= row[i]:\n",
    "                result = False\n",
    "                break\n",
    "\n",
    "        return result\n",
    "    \n",
    "    \n",
    "    def _check_conditions(self, g):\n",
    "        \"\"\"Метод для проверки условий сходимости для\n",
    "        решения СЛАУ методом Якоби\n",
    "        return: true - если сходится,\n",
    "        false - если нет\"\"\"\n",
    "        \n",
    "        assert [self.matrix[i, i] != 0 for i in range(self.matrix.shape[0])]\n",
    "        return np.abs(self.norm(g)) < 1 or self._diagonal_dominate(self.matrix)\n",
    "    \n",
    "    \n",
    "    def _iter_proc(self, G, g, eps):\n",
    "        \"\"\"Метод для задания итерационного параметра  \n",
    "        G: итерационные параментр перед вектором переменных\n",
    "        g: свободный интерационный параметр\n",
    "        returns: получившийся вектор значений переменных, количество итераций\"\"\"\n",
    "        \n",
    "        iters = 0\n",
    "        x = g\n",
    "        x_new = x + 1\n",
    "        norm_G = self.norm(G)\n",
    "        while self.norm_vec(x - x_new) >= eps * (1 - norm_G) / norm_G:\n",
    "            x = x_new\n",
    "            x_new = np.matmul(G, x) + g\n",
    "            iters += 1\n",
    "\n",
    "        return x_new, iters\n",
    "    \n",
    "    def _get_residual(self):\n",
    "        \"\"\"Метод для вычисления невязки\n",
    "        returns: величину невязки\"\"\"\n",
    "        \n",
    "        assert self.result is not None\n",
    "        return self.norm_vec([np.dot(result, row) - self.free[i] \n",
    "                                  for i, row in enumerate(self.matrix)])\n",
    "    \n",
    "    def jacobi(self, eps=1e-5):\n",
    "        \"\"\"Метод для решения СЛАУ методом Якоби\n",
    "        eps: погрешность\n",
    "        returns: вектор x - решение СЛАУ, количество итераций, \n",
    "        величину невязки\"\"\"\n",
    "        \n",
    "        a1, a2, d = self._separate(self.matrix)\n",
    "\n",
    "        inv_d = np.linalg.inv(d)\n",
    "        G = - np.matmul(inv_d, a1 + a2)\n",
    "        g = np.matmul(inv_d, self.free)\n",
    "        self._check_conditions(g)\n",
    "\n",
    "        result, iters = self._iter_proc(G, g, eps)\n",
    "        self.result = {\n",
    "            'result': result,\n",
    "            'iters': iters,\n",
    "            'used_method': 'Jacobi',\n",
    "        }\n",
    "        \n",
    "        residual = self._get_residual()\n",
    "        self.result['residual'] = residual\n",
    "        return result, iters, residual\n",
    "    \n",
    "    \n",
    "    def seidel(self, eps=1e-5):\n",
    "        \"\"\"Метод для решения СЛАУ методом Зейделя\n",
    "        eps: погрешность\n",
    "        returns: вектор x - решение СЛАУ, количество итераций,\n",
    "        величину невязки\"\"\"\n",
    "        \n",
    "        a1, a2, d = self._separate(matrix)\n",
    "        inv_mat = np.linalg.inv(a1 + d)\n",
    "\n",
    "        G = -np.matmul(inv_mat, a2)\n",
    "        g = np.matmul(inv_mat, self.free)\n",
    "\n",
    "        result, iters = self._iter_proc(G, g, eps)\n",
    "        self.result = {\n",
    "            'result': result,\n",
    "            'iters': iters,\n",
    "            'used_method': 'Seidel',\n",
    "        }\n",
    "        \n",
    "        residual = self._get_residual()\n",
    "        self.result['residual'] = residual\n",
    "        return result, iters, residual\n"
   ]
  },
  {
   "cell_type": "code",
   "execution_count": 69,
   "id": "1af7e733",
   "metadata": {},
   "outputs": [],
   "source": [
    "s1, s2 = Solver(matrix, vec), Solver(matrix, vec)"
   ]
  },
  {
   "cell_type": "code",
   "execution_count": 70,
   "id": "d8ae6640",
   "metadata": {},
   "outputs": [],
   "source": [
    "result1, iters1, res1 = s1.jacobi()"
   ]
  },
  {
   "cell_type": "code",
   "execution_count": 71,
   "id": "e382dac0",
   "metadata": {},
   "outputs": [
    {
     "data": {
      "text/plain": [
       "1.0799251003168475e-05"
      ]
     },
     "execution_count": 71,
     "metadata": {},
     "output_type": "execute_result"
    }
   ],
   "source": [
    "s.norm_vec([np.dot(result, row) - vec[i] for i, row in enumerate(matrix)])"
   ]
  },
  {
   "cell_type": "code",
   "execution_count": 72,
   "id": "ca3dd2ef",
   "metadata": {},
   "outputs": [
    {
     "data": {
      "text/plain": [
       "{'result': array([ 0.01005841,  0.01853378,  0.05867561, -0.00553167,  0.08877305,\n",
       "         0.07774069]),\n",
       " 'iters': 9,\n",
       " 'used_method': 'Jacobi',\n",
       " 'residual': 1.0799251003168475e-05}"
      ]
     },
     "execution_count": 72,
     "metadata": {},
     "output_type": "execute_result"
    }
   ],
   "source": [
    "s1.result"
   ]
  },
  {
   "cell_type": "code",
   "execution_count": null,
   "id": "dac9f1d7",
   "metadata": {},
   "outputs": [],
   "source": []
  }
 ],
 "metadata": {
  "kernelspec": {
   "display_name": "Python 3",
   "language": "python",
   "name": "python3"
  },
  "language_info": {
   "codemirror_mode": {
    "name": "ipython",
    "version": 3
   },
   "file_extension": ".py",
   "mimetype": "text/x-python",
   "name": "python",
   "nbconvert_exporter": "python",
   "pygments_lexer": "ipython3",
   "version": "3.8.5"
  }
 },
 "nbformat": 4,
 "nbformat_minor": 5
}
