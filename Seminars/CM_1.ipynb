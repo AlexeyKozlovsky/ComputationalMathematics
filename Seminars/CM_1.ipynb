{
 "cells": [
  {
   "cell_type": "markdown",
   "metadata": {},
   "source": [
    "# Численные методы. Задание 1\n",
    "### Козловский А.А., гр. 2253"
   ]
  },
  {
   "cell_type": "code",
   "execution_count": 38,
   "metadata": {},
   "outputs": [],
   "source": [
    "import numpy as np\n",
    "import matplotlib.pyplot as plt\n",
    "from sympy import diff, lambdify, Function, Symbol\n",
    "from sympy.abc import t\n",
    "from IPython.display import display, Markdown"
   ]
  },
  {
   "cell_type": "markdown",
   "metadata": {},
   "source": [
    "## Условие задачи\n",
    "Дана функция $f(x)=x^{5} - x - 0.2$</p>\n",
    "<b>Необходимо</b>:\n",
    "<ul><li>Локализовать один из вещественных корней уравнения $f(x)=0$</li>\n",
    "<li>Уменьшить полученные отрезок локализации $[a, b]$ до длины $10^{-2}$ методом бисекций</li>\n",
    "<li>Определить корни с точностью $eps=10^{-7}$ методом простых итераций с выбором релаксационного параметра для значения параметра $k=\\frac{2}{m+M}$, где $m \\leq f'(x) \\leq M$</li></ul>"
   ]
  },
  {
   "cell_type": "markdown",
   "metadata": {},
   "source": [
    "## Решение\n",
    "### Задание 1. Локализация корня графическим способом\n",
    "Для того, чтобы определить на каком интервале находится корень, построим график функции $f(x)$ и найдём визуально нужный интервал"
   ]
  },
  {
   "cell_type": "code",
   "execution_count": 39,
   "metadata": {},
   "outputs": [
    {
     "data": {
      "text/plain": [
       "<matplotlib.lines.Line2D at 0x7f3cc31e2c10>"
      ]
     },
     "execution_count": 39,
     "metadata": {},
     "output_type": "execute_result"
    },
    {
     "data": {
      "image/png": "[encoded data removed]",
      "text/plain": [
       "<Figure size 432x288 with 1 Axes>"
      ]
     },
     "metadata": {
      "needs_background": "light"
     },
     "output_type": "display_data"
    }
   ],
   "source": [
    "y = lambda x: x ** 5 - x - 0.2\n",
    "x = np.linspace(-1, 0, 100)\n",
    "plt.plot(x, y(x))\n",
    "\n",
    "ax = plt.gca()\n",
    "\n",
    "ax.axhline(y=0, color='lightgray')\n",
    "ax.axvline(x=0, color='lightgray')"
   ]
  },
  {
   "cell_type": "markdown",
   "metadata": {},
   "source": [
    "Как мы видим, нужный интервал можно взять, например от $x \\in [-0.4, 0]$"
   ]
  },
  {
   "cell_type": "code",
   "execution_count": 40,
   "metadata": {},
   "outputs": [],
   "source": [
    "min_x, max_x = -0.4, 0"
   ]
  },
  {
   "cell_type": "markdown",
   "metadata": {},
   "source": [
    "### Реализация нужных для решения функций\n",
    "Реализуем функции для метода бисекций и метода простой итерации"
   ]
  },
  {
   "cell_type": "code",
   "execution_count": 41,
   "metadata": {},
   "outputs": [],
   "source": [
    "def bisection_method(y, x_min, x_max, eps=1e-5):\n",
    "    \"\"\"\n",
    "    Функция для нахождения корня методом бисекций\n",
    "    \n",
    "    y: лямбда выражение, характеризующее функцию y(x)\n",
    "    x_min: левая граница интервала, на котором происходит поиск\n",
    "    x_max: правая граница интервала, на котором происходит поиск\n",
    "    eps: требуемая погрешность\n",
    "    \n",
    "    returns: корень\n",
    "    \"\"\"\n",
    "    \n",
    "    while np.abs(y(x_min) - y(x_max)) >= eps:\n",
    "        x_center = (x_min + x_max) / 2\n",
    "        \n",
    "        if y(x_center) * y(x_min) < 0:\n",
    "            x_max = x_center\n",
    "        else:\n",
    "            x_min = x_center\n",
    "    \n",
    "    return (x_min + x_max) / 2"
   ]
  },
  {
   "cell_type": "code",
   "execution_count": 42,
   "metadata": {},
   "outputs": [],
   "source": [
    "def simple_iteration_method(f, arg, x_min, x_max, eps=1e-10):\n",
    "    \"\"\"\n",
    "    Функция для нахождения корня методом простой итерации\n",
    "    \n",
    "    y:  sympy Function - функция f(x)\n",
    "    arg: sympy Symbol - аргумент f(x)\n",
    "    x_min: левая граница интервала, на котором происходит поиск\n",
    "    x_max: правая граница интервала, на котором происходит поиск\n",
    "    eps: требуемая погрешность\n",
    "    \n",
    "    returns: корень\n",
    "    \"\"\"\n",
    "    fl = lambdify(arg, f)\n",
    "    \n",
    "    derivative = diff(f, arg)\n",
    "    der_lambd = lambdify(arg, derivative)\n",
    "    \n",
    "    l = np.linspace(x_min, x_max, 50)\n",
    "\n",
    "    min_d = min([der_lambd(i) for i in l])\n",
    "    max_d = max([der_lambd(i) for i in l])\n",
    "    \n",
    "    thau = -2 / (min_d + max_d)    \n",
    "    x = (x_min + x_max) / 2\n",
    "    \n",
    "    difference = thau * fl(x)\n",
    "    y_old = fl(x) + 1\n",
    "    y_current = fl(x)\n",
    "    while np.abs(y_old - y_current) >= eps:\n",
    "        y_old = fl(x)\n",
    "        x += difference\n",
    "        y_current = fl(x)\n",
    "        difference = thau * fl(x)\n",
    "        \n",
    "    return x"
   ]
  },
  {
   "cell_type": "markdown",
   "metadata": {},
   "source": [
    "### Задание 2. Решение методом бисекций\n",
    "Теперь решим уравнение $f(x) = 0, x \\in [-0.4, 0]$ методом бисекций с погрешностью $eps = 10^{-2}$"
   ]
  },
  {
   "cell_type": "code",
   "execution_count": 43,
   "metadata": {},
   "outputs": [
    {
     "data": {
      "text/markdown": [
       "\n",
       "<u><i><b>Результат работы метода бисекций</b></i></u> </p>\n",
       "$x = -0.203125$</p>\n",
       "Так как мы считали с погрешностью $eps=0.01$, возьмем число до 1 знака\n",
       "после запятой (не округляем, а просто \"отрезаем\"), \n",
       "потому что остальные цифры - не значимые. </p>\n",
       "<u>Ответ</u>: $x=-0.2$"
      ],
      "text/plain": [
       "<IPython.core.display.Markdown object>"
      ]
     },
     "metadata": {},
     "output_type": "display_data"
    }
   ],
   "source": [
    "eps = 1e-2\n",
    "res_1 = bisection_method(y, min_x, max_x, eps)\n",
    "\n",
    "display(Markdown(\n",
    "    rf\"\"\"\n",
    "<u><i><b>Результат работы метода бисекций</b></i></u> </p>\n",
    "$x = {res_1}$</p>\n",
    "Так как мы считали с погрешностью $eps={eps}$, возьмем число до 1 знака\n",
    "после запятой (не округляем, а просто \"отрезаем\"), \n",
    "потому что остальные цифры - не значимые. </p>\n",
    "<u>Ответ</u>: $x={res_1:.1f}$\"\"\"))"
   ]
  },
  {
   "cell_type": "markdown",
   "metadata": {},
   "source": [
    "### Задание 3. Решение методом простой итерации\n",
    "#### Комментарий\n",
    "Для того, чтобы решать уравнение $f(x) = 0$ методом простой итерации, необходимо найти такую функцию $g(x)$, чтобы уравнения $f(x) = 0$ и $g(x) = x$ были однородны.\n",
    "Положим, что функция имеет вид $g(x) = x + \\tau(x)f(x)$ и $\\tau(x) \\neq 0$ при $x \\in [-0.4, 0]$ <p>\n",
    "Тогда, действительно, получим уравнение $x = x + \\tau(x)f(x)$, которое однородно с $f(x) = 0$. Далее для удоства будем полагать, что $\\tau(x) = const \\neq 0$ <p>\n",
    "Но в методе простой итерации последовательность $\\{x_{n}\\}$, которую мы получаем в ходе итерационного процесса может быть расходящейся, а решение мы найдем только в том случае, если последовательность $\\{x_{n}\\} \\to x_{*}$,  $x_{*} \\in \\mathbb{R}$, причем $x_{*}$ и будет корнем. <p>\n",
    "Применим достаточное условие сходимости: $|g'(x_{*})| < 1$. Выполним следующие действия:\n",
    "     $$|1 + \\tau f'(x_{*})| < 1$$\n",
    "    $$-1 < 1 + \\tau f'(x_{*}) < 1$$\n",
    "    $$-2 < \\tau f'(x_{*}) < 0$$\n",
    "    $$\\frac{-2}{f'(x_{*})} < \\tau < 0$$\n",
    "    \n",
    "Теперь положим, что:\n",
    "    $$m = \\min_{x \\in [a, b]}{f'(x)}$$\n",
    "    $$M = \\max_{x \\in [a, b]}{f'(x)}$$\n",
    "Тогда рассмотрим случай, когда $0 < m \\leq f'(x_{*}) \\leq M$ и получим:\n",
    "    $$f'(x_{*}) \\le M$$\n",
    "    $$\\frac{1}{f'(x_{*})} \\ge \\frac{1}{M}$$\n",
    "    $$\\frac{-2}{f'(x_{*})} \\le \\frac{-2}{M}$$\n",
    "    \n",
    "Получается, что:\n",
    "    $$-\\frac{2}{f'(x_{*})} \\le -\\frac{2}{M} \\le \\tau \\le 0 \\implies\n",
    "    \\tau \\in [-\\frac{2}{M}, 0)$$\n",
    "    \n",
    "    \n",
    "Теперь найдем оптимальное $\\tau_{0}$. Для этого рассмотрим $q(\\tau) = \\max_{x}{|1 + \\tau f'(x)|}$. Здесь возможно два случая:\n",
    "    $$\\max_{x}{|1 + \\tau f'(x)|} = |1 + \\tau m|$$\n",
    "    $$\\max_{x}{|1 + \\tau f'(x)|} = |1 + \\tau M|$$\n",
    "Получаем, что:\n",
    "    $$q(\\tau_{0}) = \\min_{\\tau}{\\max{(|1 + \\tau m|, |1 + \\tau M|)}}$$\n",
    "Этот минимум достигается, если $1 + \\tau m = - (1 + \\tau M)$. Отсюда следует, что оптимальное $\\tau_{0} = -\\frac{2}{m + M}$"
   ]
  },
  {
   "cell_type": "markdown",
   "metadata": {},
   "source": [
    "#### Решение\n",
    "Теперь просто решим наше уравнение методом простой итерации, используя функции, описанные ранее и теоретический вывод, который мы только что получили"
   ]
  },
  {
   "cell_type": "code",
   "execution_count": 44,
   "metadata": {},
   "outputs": [
    {
     "data": {
      "text/markdown": [
       "\n",
       "<u><i><b>Результат работы метода простой итерации</b></i></u> </p>\n",
       "$x = -0.20032258493108487$. В данном случае, погрешность, с которой мы считали\n",
       "была $eps = 1e-07$, поэтому 6 цифр после запятой значимые. </p>\n",
       "<u>Ответ</u>: $x = -0.200323$"
      ],
      "text/plain": [
       "<IPython.core.display.Markdown object>"
      ]
     },
     "metadata": {},
     "output_type": "display_data"
    }
   ],
   "source": [
    "eps = 1e-7\n",
    "s = Symbol('s')\n",
    "f = s ** 5 - s - 0.2\n",
    "res_2 = simple_iteration_method(f, s, min_x, max_x, eps)\n",
    "\n",
    "display(Markdown(\n",
    "    rf\"\"\"\n",
    "<u><i><b>Результат работы метода простой итерации</b></i></u> </p>\n",
    "$x = {res_2}$. В данном случае, погрешность, с которой мы считали\n",
    "была $eps = {eps}$, поэтому 6 цифр после запятой значимые. </p>\n",
    "<u>Ответ</u>: $x = {res_2:.6f}$\"\"\"))"
   ]
  },
  {
   "cell_type": "markdown",
   "metadata": {},
   "source": [
    "### Задание 4\n",
    "Теперь выведем $|f(x)|$ для $x$, которые мы получили"
   ]
  },
  {
   "cell_type": "code",
   "execution_count": 45,
   "metadata": {},
   "outputs": [
    {
     "data": {
      "text/markdown": [
       "\n",
       "Для $x_1$, полученного методом бисекций $|f(x_1)| = 0.002779206447303284$ <p>\n",
       "Для $x_2$, полученного методом простой итерации $|f(x_2)| = 4.086685073678709e-09$ "
      ],
      "text/plain": [
       "<IPython.core.display.Markdown object>"
      ]
     },
     "metadata": {},
     "output_type": "display_data"
    }
   ],
   "source": [
    "display(Markdown(rf\"\"\"\n",
    "Для $x_{1}$, полученного методом бисекций $|f(x_{1})| = {np.abs(y(res_1))}$ <p>\n",
    "Для $x_{2}$, полученного методом простой итерации $|f(x_{2})| = {np.abs(y(res_2))}$ \"\"\"))"
   ]
  },
  {
   "cell_type": "code",
   "execution_count": null,
   "metadata": {},
   "outputs": [],
   "source": []
  }
 ],
 "metadata": {
  "kernelspec": {
   "display_name": "Python 3",
   "language": "python",
   "name": "python3"
  },
  "language_info": {
   "codemirror_mode": {
    "name": "ipython",
    "version": 3
   },
   "file_extension": ".py",
   "mimetype": "text/x-python",
   "name": "python",
   "nbconvert_exporter": "python",
   "pygments_lexer": "ipython3",
   "version": "3.8.5"
  }
 },
 "nbformat": 4,
 "nbformat_minor": 4
}
