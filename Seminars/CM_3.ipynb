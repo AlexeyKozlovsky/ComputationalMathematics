{
 "cells": [
  {
   "cell_type": "markdown",
   "id": "7f978ebf",
   "metadata": {},
   "source": [
    "## Численные методы. Задание 2.1\n",
    "#### Козловский А.А., гр. 2253"
   ]
  },
  {
   "cell_type": "code",
   "execution_count": 38,
   "id": "5d3d4103",
   "metadata": {},
   "outputs": [],
   "source": [
    "import numpy as np"
   ]
  },
  {
   "cell_type": "markdown",
   "id": "bc02ba94",
   "metadata": {},
   "source": [
    "### Определения класса для решения СЛАУ методом прогонки\n",
    "#### Теоретические заметки\n",
    "\n",
    "Метод прогонки состоит из двух частей: прямой ход и обратный. Во время прямого хода, мы считаем дополнительные коэффициенты, которые понадобяться нам на обратном ходу, чтобы рекурсивно посчитать значения переменных, являющиеся решением.\n",
    "\n",
    "\n",
    "Допустим матрица коэффициентов СЛАУ задана в следующем виде:\n",
    "$$\\begin{pmatrix}\n",
    "b_{0} & c_{0} & 0 & 0 & ... & 0 & 0  & 0\\\\\n",
    "a_{1} & b_{1} & c_{1} & 0 & ... & 0 & 0 & 0\\\\\n",
    "0 & a_{2} & b_{2} & c_{2} & ... & 0 & 0 & 0 \\\\\n",
    "&&&&{...} \\\\\n",
    "0 & 0 & 0 & 0 & ... & 0 & a_{n} & b_{n} \n",
    "\\end{pmatrix}$$\n",
    "\n",
    "Тогда, вектора вспомогательных коэффициентов $\\vec{r}$ и $\\vec{s}$ будут находиться по следующим формулам:\n",
    "$$\\begin{cases}\n",
    "r_{2} = \\frac{-c_{1}}{b_{1}} \\\\\n",
    "s_{2} = \\frac{f_{1}}{b_{1}}\n",
    "\\end{cases}$$\n",
    "<p>\n",
    "$$\\begin{cases}\n",
    "r_{i+1} = \\frac{-c_{i}}{a_{i}r_{i} + s_{i}} \\\\\n",
    "s_{i+1} = \\frac{f_{i}-a_{i}b_{i}}{a_{i}r_{i} + b_{i}}\n",
    "\\end{cases}$$\n",
    "    \n",
    "После векторов вспомогательных коэффициентов найдем, благодаря ним решение по следующим формулам:\n",
    "    \n",
    "$$x_{n} = \\frac{f_{n} - a_{n}s_{n}}{b_{n} + a_{n}r_{n}}$$\n",
    "$$x_{i} = r_{i+1}x_{i+1} + s_{i+1}, i=\\overline{n-1, 1}$$"
   ]
  },
  {
   "cell_type": "markdown",
   "id": "32a10f8c",
   "metadata": {},
   "source": [
    "#### Реализация"
   ]
  },
  {
   "cell_type": "code",
   "execution_count": 202,
   "id": "08d55731",
   "metadata": {},
   "outputs": [],
   "source": [
    "class Solver:\n",
    "    def __init__(self, matrix, free):\n",
    "        self.matrix = matrix\n",
    "        self.free = free\n",
    "        self.result = None\n",
    "        \n",
    "    def _is_satisfied(self, k):\n",
    "        \"\"\"Метод для проверки выполнения условия трехдиагональной\n",
    "        или пятидиагональной матрицы\"\"\"\n",
    "        assert k == 3 or k == 5\n",
    "        \n",
    "        for i, row in enumerate(matrix):\n",
    "            for j, el in enumerate(row):\n",
    "                if j > i + k // 2 and el != 0:\n",
    "                    return False\n",
    "                if j < i - k // 2 and el != 0:\n",
    "                    return False\n",
    "                \n",
    "        return True\n",
    "    \n",
    "    def _thomas_forward_pass(self, matrix):\n",
    "        \"\"\"Метод для прямого прохода для метода прогонки\n",
    "        matrix: расширенная матрица СЛАУ\n",
    "        returns: два массива коэффициентов для обратного хода\n",
    "        метода прогонки\"\"\"\n",
    "        \n",
    "        n = matrix.shape[0]\n",
    "        r, s = np.zeros((n)), np.zeros((n))\n",
    "        b, c, f = matrix[0, 0], matrix[0, 1], matrix[0, n]\n",
    "        r[1], s[1] = -c / b, f / b\n",
    "        \n",
    "        for i in range(2, n):\n",
    "            a, b, c, f = *matrix[i-1, i-2:i+1], matrix[i-1, n]\n",
    "            bottom = a * r[i - 1] + b\n",
    "            r[i] = -c / bottom\n",
    "            s[i] = (f - a * s[i - 1]) / bottom\n",
    "            \n",
    "        return r, s\n",
    "    \n",
    "    def _thomas_backward_pass(self, matrix, r, s):\n",
    "        \"\"\"Метод для обратного хода метода прогонки\n",
    "        matrix: расширенная матрица системы\n",
    "        r: массив коэффициентов alpha\n",
    "        s: массив коэффициентов betta\n",
    "        returns: вектор значений x\"\"\"\n",
    "        n = self.matrix.shape[0]\n",
    "        x = np.zeros((n))\n",
    "        \n",
    "        a, b, f = matrix[n-1, n-2:]\n",
    "        x[n - 1] = (f - a * s[n - 1]) / (b + a * r[n - 1])\n",
    "        \n",
    "        for i in range(n - 2, -1, -1):\n",
    "            x[i] = r[i + 1] * x[i + 1] + s[i + 1]\n",
    "            \n",
    "        return x\n",
    "\n",
    "    def thomas(self):\n",
    "        \"\"\"Метод прогонки\n",
    "        returns: вектор значений x\"\"\"\n",
    "        assert self._is_satisfied(3)\n",
    "        matrix = np.concatenate((self.matrix, np.array([self.free]).T), axis=1)  \n",
    "        n = matrix.shape[0]\n",
    "        \n",
    "        r, s = self._thomas_forward_pass(matrix)\n",
    "        self.result = self._thomas_backward_pass(matrix, r, s)\n",
    "        return self.result\n",
    "    \n",
    "    def residual_count(self):\n",
    "        \"\"\"Метод для подсчёта невязки\n",
    "        returns: невязку получившегося решения\"\"\"\n",
    "        assert self.result is not None\n",
    "        matrix, result = self.matrix, self.result\n",
    "        \n",
    "        actual_free = np.array([np.dot(row, result) for row in matrix])\n",
    "        return np.linalg.norm(actual_free - free)\n",
    "        "
   ]
  },
  {
   "cell_type": "markdown",
   "id": "1ad0df7d",
   "metadata": {},
   "source": [
    "### Тестирование класса\n",
    "#### Генерация трехдиагональной матрицы и вектора свободных переменных"
   ]
  },
  {
   "cell_type": "code",
   "execution_count": 203,
   "id": "f0b681b6",
   "metadata": {},
   "outputs": [],
   "source": [
    "matrix = np.array([[np.random.rand() * 10 if i - 1 <= j <= i + 1\n",
    "            else 0\n",
    "          for j in range(10)]\n",
    "          for i in range(10)])"
   ]
  },
  {
   "cell_type": "code",
   "execution_count": 204,
   "id": "9df63d29",
   "metadata": {},
   "outputs": [
    {
     "name": "stdout",
     "output_type": "stream",
     "text": [
      "[[8.42 6.23 0.   0.   0.   0.   0.   0.   0.   0.  ]\n",
      " [4.73 9.11 1.43 0.   0.   0.   0.   0.   0.   0.  ]\n",
      " [0.   9.65 1.07 0.08 0.   0.   0.   0.   0.   0.  ]\n",
      " [0.   0.   4.04 2.51 7.28 0.   0.   0.   0.   0.  ]\n",
      " [0.   0.   0.   8.08 3.13 0.97 0.   0.   0.   0.  ]\n",
      " [0.   0.   0.   0.   6.83 2.61 9.92 0.   0.   0.  ]\n",
      " [0.   0.   0.   0.   0.   3.1  1.78 5.95 0.   0.  ]\n",
      " [0.   0.   0.   0.   0.   0.   2.18 5.2  8.75 0.  ]\n",
      " [0.   0.   0.   0.   0.   0.   0.   1.06 4.03 6.13]\n",
      " [0.   0.   0.   0.   0.   0.   0.   0.   0.61 7.71]]\n"
     ]
    }
   ],
   "source": [
    "print(np.round(matrix, 2))"
   ]
  },
  {
   "cell_type": "code",
   "execution_count": 205,
   "id": "8615919b",
   "metadata": {},
   "outputs": [
    {
     "name": "stdout",
     "output_type": "stream",
     "text": [
      "[6.56234972 8.58259754 6.62165849 5.57398924 6.04732614 1.76661002\n",
      " 2.92564067 8.14115724 8.28554603 8.77162054]\n"
     ]
    }
   ],
   "source": [
    "free = np.random.rand((10)) * 10\n",
    "print(free)"
   ]
  },
  {
   "cell_type": "markdown",
   "id": "fd6a162d",
   "metadata": {},
   "source": [
    "#### Решение СЛАУ и анализ результатов"
   ]
  },
  {
   "cell_type": "code",
   "execution_count": 206,
   "id": "45dd69c9",
   "metadata": {},
   "outputs": [],
   "source": [
    "s = Solver(matrix, free)"
   ]
  },
  {
   "cell_type": "code",
   "execution_count": 207,
   "id": "1afaf8b1",
   "metadata": {},
   "outputs": [],
   "source": [
    "result = s.thomas()"
   ]
  },
  {
   "cell_type": "code",
   "execution_count": 208,
   "id": "592e8a31",
   "metadata": {},
   "outputs": [
    {
     "data": {
      "text/plain": [
       "3.794299872214038e-15"
      ]
     },
     "execution_count": 208,
     "metadata": {},
     "output_type": "execute_result"
    }
   ],
   "source": [
    "s.residual_count()"
   ]
  }
 ],
 "metadata": {
  "kernelspec": {
   "display_name": "Python 3",
   "language": "python",
   "name": "python3"
  },
  "language_info": {
   "codemirror_mode": {
    "name": "ipython",
    "version": 3
   },
   "file_extension": ".py",
   "mimetype": "text/x-python",
   "name": "python",
   "nbconvert_exporter": "python",
   "pygments_lexer": "ipython3",
   "version": "3.8.5"
  }
 },
 "nbformat": 4,
 "nbformat_minor": 5
}
